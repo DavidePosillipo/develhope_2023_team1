{
 "cells": [
  {
   "cell_type": "code",
   "execution_count": 1,
   "metadata": {},
   "outputs": [],
   "source": [
    "import pandas as pd\n",
    "import numpy as np\n",
    "\n",
    "df = pd.read_csv(r'C:\\Users\\Alessio\\Desktop\\Progetti Team 1\\develhope_2023_team1\\progetto_2\\database\\googleplaystore.csv')\n",
    "# Row totally mistaken, dropping row 10472\n",
    "df = df.drop(10472)"
   ]
  },
  {
   "cell_type": "code",
   "execution_count": 10,
   "metadata": {
    "scrolled": false
   },
   "outputs": [],
   "source": [
    "#categ = df.dtypes[df.dtypes== 'object'].index\n",
    "#df[categ].describe()"
   ]
  },
  {
   "cell_type": "code",
   "execution_count": 10,
   "metadata": {},
   "outputs": [],
   "source": [
    "df = df.assign(Installs = pd.to_numeric(df['Installs'].str.replace('[^0-9.]', '',regex=True)))\n",
    "# delete string from size, changing M to 000000, changing k to 000, assign median to empty values\n",
    "df.loc[df[\"Size\"] == \"Varies with device\", \"Size\"] = ''\n",
    "df.Size = df.Size.str.replace('M','000000',regex=True)\n",
    "df.Size = df.Size.str.replace('k','000',regex=True)\n",
    "df = df.assign(Size = pd.to_numeric(df['Size'].str.replace('[^0-9.]', '',regex=True)))\n",
    "df = df.assign(Price = pd.to_numeric(df['Price'].str.replace('[^0-9.]', '',regex=True)))"
   ]
  },
  {
   "cell_type": "code",
   "execution_count": 52,
   "metadata": {},
   "outputs": [],
   "source": [
    "df_rev = pd.read_csv(r'C:\\Users\\Alessio\\Desktop\\Progetti Team 1\\develhope_2023_team1\\progetto_2\\database\\googleplaystore_user_reviews.csv')"
   ]
  },
  {
   "cell_type": "code",
   "execution_count": null,
   "metadata": {},
   "outputs": [],
   "source": [
    "def to_number(self, dataframe,column):\n",
    "        \n",
    "    # leave only numbers and dots, then cast to int64\n",
    "    dataframe = dataframe.assign(column = pd.to_numeric(df[column].str.replace('[^0-9.]', '', regex=True)))\n",
    "    return dataframe"
   ]
  },
  {
   "cell_type": "code",
   "execution_count": null,
   "metadata": {},
   "outputs": [],
   "source": []
  }
 ],
 "metadata": {
  "kernelspec": {
   "display_name": "Python 3 (ipykernel)",
   "language": "python",
   "name": "python3"
  },
  "language_info": {
   "codemirror_mode": {
    "name": "ipython",
    "version": 3
   },
   "file_extension": ".py",
   "mimetype": "text/x-python",
   "name": "python",
   "nbconvert_exporter": "python",
   "pygments_lexer": "ipython3",
   "version": "3.11.1"
  },
  "vscode": {
   "interpreter": {
    "hash": "65a103ad7a3ec74410bca9d439b6ca44f87ca30f9626bb182f3fb2be1ec97852"
   }
  }
 },
 "nbformat": 4,
 "nbformat_minor": 2
}
