{
 "cells": [
  {
   "cell_type": "code",
   "execution_count": 2,
   "id": "f87de5ca",
   "metadata": {},
   "outputs": [
    {
     "name": "stdout",
     "output_type": "stream",
     "text": [
      "Cleaning main database\n",
      "Cleaning reviews database\n",
      "Database connected successfully\n",
      "Cursor object created\n",
      "Table Created successfully\n",
      "Table Created successfully\n",
      "Created engine successfully\n",
      "Failure\n",
      "Load to postgres success\n"
     ]
    }
   ],
   "source": [
    "import pandas as pd\n",
    "import matplotlib.pyplot as plt\n",
    "import seaborn as sns\n",
    "import numpy as np\n",
    "import psycopg2\n",
    "from sqlalchemy import create_engine\n",
    "\n",
    "from src.DataIngestor import DataIngestor\n",
    "from src.DataCleaner import DataCleaner\n",
    "from src.DataVisualizer import DataVisualizer\n",
    "from src.DataAnalyser import DataAnalyser\n",
    "\n",
    "di = DataIngestor()\n",
    "dc = DataCleaner()\n",
    "da = DataAnalyser()\n",
    "dv = DataVisualizer()\n",
    "\n",
    "google_data = di.read_file(\"./data/raw/googleplaystore.csv\")\n",
    "google_data = dc.clean_googledb(google_data)\n",
    "\n",
    "\n",
    "'''qui ci sono diverse operazioni di cleaning importanti da mettere dentro il \n",
    "datacleaner per potere interagire senza errori con postgres'''\n",
    "google_data=google_data.dropna(subset='Type')\n",
    "google_data=google_data.rename(columns={'App': 'app','Category':'category','Rating':'rating','Reviews':'reviews','Size':'size','Installs':'installs','Type':'type','Price':'price','Content Rating':'content_rating','Genres':'genres','Last Updated':'last_update'})\n",
    "\n",
    "google_reviews = di.read_file('./data/raw/googleplaystore_user_reviews.csv')\n",
    "google_reviews = dc.clean_googlereviews(google_reviews)\n",
    "\n",
    "'''idem con patatate ci sono diverse operazioni di cleaning importanti da mettere dentro il \n",
    "datacleaner per potere interagire senza errori con postgres'''\n",
    "google_reviews = google_reviews.rename(columns={'App':'app','Translated_Review':'translated_review'})\n",
    "google_reviews=google_reviews.dropna()\n",
    "google_reviews['translated_review'] = google_reviews['translated_review'].astype(str)\n",
    "google_reviews=google_reviews[google_reviews['app'].isin(google_data['app'])]\n",
    "\n",
    "#ora i dati dovrebbero essere pronti per la parte di caricamento nel database\n",
    "\n",
    "\n",
    "conn = di.connect('postgres','postgres','almno','localhost','5432')\n",
    "\n",
    "di.create_google(conn)\n",
    "di.create_reviews(conn)\n",
    "\n",
    "engine=di.create_engine('postgres','almno','localhost','5432','postgres')\n",
    "\n",
    "\n",
    "di.load(google_data,'googleplaystore',engine)\n",
    "\n",
    "di.load(google_reviews,'google_reviews',engine)"
   ]
  },
  {
   "cell_type": "code",
   "execution_count": null,
   "id": "8c76ac5f",
   "metadata": {},
   "outputs": [],
   "source": []
  },
  {
   "cell_type": "code",
   "execution_count": null,
   "id": "63c17fae",
   "metadata": {},
   "outputs": [],
   "source": []
  }
 ],
 "metadata": {
  "kernelspec": {
   "display_name": "Python 3 (ipykernel)",
   "language": "python",
   "name": "python3"
  },
  "language_info": {
   "codemirror_mode": {
    "name": "ipython",
    "version": 3
   },
   "file_extension": ".py",
   "mimetype": "text/x-python",
   "name": "python",
   "nbconvert_exporter": "python",
   "pygments_lexer": "ipython3",
   "version": "3.11.1"
  }
 },
 "nbformat": 4,
 "nbformat_minor": 5
}
